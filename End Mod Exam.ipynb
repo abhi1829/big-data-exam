{
 "cells": [
  {
   "cell_type": "code",
   "execution_count": 3,
   "metadata": {},
   "outputs": [],
   "source": [
    "import pyspark\n",
    "from pyspark import SparkContext\n",
    "from pyspark.sql import SQLContext\n",
    "from pyspark.sql.types import *\n"
   ]
  },
  {
   "cell_type": "code",
   "execution_count": 4,
   "metadata": {},
   "outputs": [],
   "source": [
    "sc = SparkContext()\n",
    "ssc =  SQLContext(sc)"
   ]
  },
  {
   "cell_type": "code",
   "execution_count": 6,
   "metadata": {},
   "outputs": [],
   "source": [
    "schema =  StructType().add('Year',IntegerType(),True).add('Quarter',IntegerType(),True).add('rev_per_seat',DoubleType(),True).add('num_of_seats',IntegerType(),True)"
   ]
  },
  {
   "cell_type": "code",
   "execution_count": 8,
   "metadata": {},
   "outputs": [],
   "source": [
    "df1 = ssc.read.format('csv').option('header','True').schema(schema).load('hdfs://nameservice1/user/bigcdac432589/EXAM/airlines.csv')"
   ]
  },
  {
   "cell_type": "code",
   "execution_count": 10,
   "metadata": {},
   "outputs": [
    {
     "name": "stdout",
     "output_type": "stream",
     "text": [
      "+----+-------+------------+------------+\n",
      "|Year|Quarter|rev_per_seat|num_of_seats|\n",
      "+----+-------+------------+------------+\n",
      "|1995|      1|       296.9|       46561|\n",
      "|1995|      2|       296.8|       37443|\n",
      "|1995|      3|      287.51|       34128|\n",
      "|1995|      4|      287.78|       30388|\n",
      "|1996|      1|      283.97|       47808|\n",
      "+----+-------+------------+------------+\n",
      "only showing top 5 rows\n",
      "\n"
     ]
    }
   ],
   "source": [
    "df1.show(5)"
   ]
  },
  {
   "cell_type": "code",
   "execution_count": 11,
   "metadata": {},
   "outputs": [],
   "source": [
    "df1.registerTempTable('airlines')"
   ]
  },
  {
   "cell_type": "code",
   "execution_count": 26,
   "metadata": {},
   "outputs": [
    {
     "data": {
      "text/plain": [
       "DataFrame[Year: int, Quarter: int, rev_per_seat: double, num_of_seats: int]"
      ]
     },
     "execution_count": 26,
     "metadata": {},
     "output_type": "execute_result"
    }
   ],
   "source": [
    "df1.repartition(1)"
   ]
  },
  {
   "cell_type": "code",
   "execution_count": 27,
   "metadata": {},
   "outputs": [],
   "source": [
    "que1 = ssc.sql('SELECT Year, sum(num_of_seats) as total_passengers FROM airlines GROUP BY Year ORDER BY total_passengers DESC')"
   ]
  },
  {
   "cell_type": "code",
   "execution_count": 16,
   "metadata": {},
   "outputs": [
    {
     "data": {
      "text/plain": [
       "Row(Year=2007, total_passengers=176299)"
      ]
     },
     "execution_count": 16,
     "metadata": {},
     "output_type": "execute_result"
    }
   ],
   "source": [
    "que1.first()"
   ]
  },
  {
   "cell_type": "code",
   "execution_count": 28,
   "metadata": {},
   "outputs": [
    {
     "name": "stdout",
     "output_type": "stream",
     "text": [
      "+----+----------------+\n",
      "|Year|total_passengers|\n",
      "+----+----------------+\n",
      "|2007|          176299|\n",
      "|2013|          173676|\n",
      "|2001|          173598|\n",
      "|1996|          167223|\n",
      "|2008|          166897|\n",
      "|2012|          166076|\n",
      "|2015|          165438|\n",
      "|2004|          164800|\n",
      "|2010|          163741|\n",
      "|2014|          159823|\n",
      "|1997|          157972|\n",
      "|2003|          156153|\n",
      "|2000|          154376|\n",
      "|2006|          153789|\n",
      "|2002|          152195|\n",
      "|2005|          150610|\n",
      "|2009|          150308|\n",
      "|1999|          150000|\n",
      "|1995|          148520|\n",
      "|2011|          142647|\n",
      "+----+----------------+\n",
      "only showing top 20 rows\n",
      "\n"
     ]
    }
   ],
   "source": [
    "que1.show()"
   ]
  },
  {
   "cell_type": "code",
   "execution_count": 19,
   "metadata": {},
   "outputs": [],
   "source": [
    "que2 = ssc.sql('SELECT Year, round((sum(rev_per_seat * num_of_seats)/1000000),2) as total_revenue_Millions FROM airlines GROUP BY Year ORDER BY total_revenue_Millions DESC')"
   ]
  },
  {
   "cell_type": "code",
   "execution_count": 29,
   "metadata": {},
   "outputs": [
    {
     "name": "stdout",
     "output_type": "stream",
     "text": [
      "+----+----------------------+\n",
      "|Year|total_revenue_Millions|\n",
      "+----+----------------------+\n",
      "|2013|                 66.36|\n",
      "|2014|                 62.62|\n",
      "|2015|                 62.38|\n",
      "|2012|                  62.2|\n",
      "|2008|                 57.65|\n",
      "|2007|                 57.31|\n",
      "|2001|                 55.53|\n",
      "|2010|                 54.86|\n",
      "|2000|                 52.34|\n",
      "|2011|                 51.89|\n",
      "|2004|                 50.63|\n",
      "|2006|                 50.44|\n",
      "|2003|                 49.27|\n",
      "|1999|                 48.76|\n",
      "|2002|                  47.5|\n",
      "|2009|                 46.75|\n",
      "|2005|                 46.38|\n",
      "|1996|                 46.36|\n",
      "|1997|                 45.39|\n",
      "|1995|                 43.49|\n",
      "+----+----------------------+\n",
      "only showing top 20 rows\n",
      "\n"
     ]
    }
   ],
   "source": [
    "que2.show()"
   ]
  },
  {
   "cell_type": "code",
   "execution_count": 21,
   "metadata": {},
   "outputs": [
    {
     "data": {
      "text/plain": [
       "Row(Year=2013, total_revenue_Millions=66.36)"
      ]
     },
     "execution_count": 21,
     "metadata": {},
     "output_type": "execute_result"
    }
   ],
   "source": [
    "que2.first()"
   ]
  },
  {
   "cell_type": "code",
   "execution_count": 22,
   "metadata": {},
   "outputs": [],
   "source": [
    "que3 = ssc.sql('SELECT Year,Quarter, round((sum(rev_per_seat * num_of_seats)/1000000),2) as total_revenue_Millions FROM airlines GROUP BY Year,Quarter ORDER BY total_revenue_Millions DESC')"
   ]
  },
  {
   "cell_type": "code",
   "execution_count": 30,
   "metadata": {},
   "outputs": [
    {
     "name": "stdout",
     "output_type": "stream",
     "text": [
      "+----+-------+----------------------+\n",
      "|Year|Quarter|total_revenue_Millions|\n",
      "+----+-------+----------------------+\n",
      "|2014|      4|                 18.82|\n",
      "|2013|      1|                 18.57|\n",
      "|2013|      3|                 18.18|\n",
      "|2015|      2|                 17.32|\n",
      "|2000|      1|                 16.39|\n",
      "|2010|      1|                  16.3|\n",
      "|2012|      4|                 16.09|\n",
      "|2014|      3|                 15.96|\n",
      "|2012|      3|                 15.95|\n",
      "|1999|      1|                 15.74|\n",
      "|2004|      1|                  15.7|\n",
      "|2008|      1|                 15.63|\n",
      "|2007|      2|                 15.54|\n",
      "|2015|      4|                 15.49|\n",
      "|2008|      4|                 15.46|\n",
      "|2012|      2|                 15.45|\n",
      "|2006|      3|                 15.34|\n",
      "|2001|      1|                 15.25|\n",
      "|2010|      4|                 15.16|\n",
      "|2011|      3|                 15.12|\n",
      "+----+-------+----------------------+\n",
      "only showing top 20 rows\n",
      "\n"
     ]
    }
   ],
   "source": [
    "que3.show()"
   ]
  },
  {
   "cell_type": "code",
   "execution_count": 24,
   "metadata": {},
   "outputs": [
    {
     "data": {
      "text/plain": [
       "Row(Year=2014, Quarter=4, total_revenue_Millions=18.82)"
      ]
     },
     "execution_count": 24,
     "metadata": {},
     "output_type": "execute_result"
    }
   ],
   "source": [
    "que3.first()"
   ]
  },
  {
   "cell_type": "markdown",
   "metadata": {},
   "source": [
    "## Using RDD"
   ]
  },
  {
   "cell_type": "code",
   "execution_count": 31,
   "metadata": {},
   "outputs": [],
   "source": [
    "rdd1 = sc.textFile('hdfs://nameservice1/user/bigcdac432589/EXAM/airlines.csv')"
   ]
  },
  {
   "cell_type": "code",
   "execution_count": 32,
   "metadata": {},
   "outputs": [],
   "source": [
    "header = rdd1.first()"
   ]
  },
  {
   "cell_type": "code",
   "execution_count": 33,
   "metadata": {},
   "outputs": [
    {
     "name": "stdout",
     "output_type": "stream",
     "text": [
      "Year,Quarter,Average revenue per seat,total no. of booked seats\n"
     ]
    }
   ],
   "source": [
    "print(header)"
   ]
  },
  {
   "cell_type": "code",
   "execution_count": 34,
   "metadata": {},
   "outputs": [],
   "source": [
    "rdd2 = rdd1.filter(lambda s:s!=header)"
   ]
  },
  {
   "cell_type": "code",
   "execution_count": 42,
   "metadata": {},
   "outputs": [],
   "source": [
    "que1rdd1 = rdd2.map(lambda s:(s.split(',')[0],int(s.split(',')[3])))"
   ]
  },
  {
   "cell_type": "code",
   "execution_count": 43,
   "metadata": {},
   "outputs": [],
   "source": [
    "que1rdd2 = que1rdd1.reduceByKey(lambda a,b:a+b)"
   ]
  },
  {
   "cell_type": "code",
   "execution_count": 44,
   "metadata": {},
   "outputs": [],
   "source": [
    "que1rdd3=que1rdd2.sortBy(lambda s:-s[1])"
   ]
  },
  {
   "cell_type": "code",
   "execution_count": 47,
   "metadata": {},
   "outputs": [
    {
     "data": {
      "text/plain": [
       "('2007', 176299)"
      ]
     },
     "execution_count": 47,
     "metadata": {},
     "output_type": "execute_result"
    }
   ],
   "source": [
    "que1rdd3.first()"
   ]
  },
  {
   "cell_type": "code",
   "execution_count": null,
   "metadata": {},
   "outputs": [],
   "source": []
  }
 ],
 "metadata": {
  "kernelspec": {
   "display_name": "Python 3",
   "language": "python",
   "name": "python3"
  },
  "language_info": {
   "codemirror_mode": {
    "name": "ipython",
    "version": 3
   },
   "file_extension": ".py",
   "mimetype": "text/x-python",
   "name": "python",
   "nbconvert_exporter": "python",
   "pygments_lexer": "ipython3",
   "version": "3.7.6"
  }
 },
 "nbformat": 4,
 "nbformat_minor": 4
}
